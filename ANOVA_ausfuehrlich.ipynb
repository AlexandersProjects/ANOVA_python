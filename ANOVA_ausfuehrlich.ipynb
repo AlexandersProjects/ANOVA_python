{
 "cells": [
  {
   "cell_type": "markdown",
   "metadata": {},
   "source": [
    "# Imports"
   ]
  },
  {
   "cell_type": "code",
   "execution_count": 131,
   "metadata": {},
   "outputs": [],
   "source": [
    "# Bibliotheken für Datenmanipulation\n",
    "import pandas as pd\n",
    "import numpy as np\n",
    "\n",
    "# Bibliotheken für Visualisierung\n",
    "import seaborn as sns\n",
    "import matplotlib.pyplot as plt\n",
    "\n",
    "# Bibliotheken für statistische Analysen\n",
    "import pingouin as pg"
   ]
  },
  {
   "cell_type": "markdown",
   "metadata": {},
   "source": [
    "# Anova - einfaktoriellen Varianzanalyse ohne Messwiederholung"
   ]
  },
  {
   "cell_type": "markdown",
   "metadata": {},
   "source": [
    "Mit dem Beispiel-Datensatz \"tips\" soll die einfaktorielle Varianzanalyse ohne Messwiederholung in Python erörtert werden."
   ]
  },
  {
   "cell_type": "markdown",
   "metadata": {},
   "source": [
    "## Hypothese \n"
   ]
  },
  {
   "cell_type": "markdown",
   "metadata": {},
   "source": [
    "H1: Der Wochentag hat einen Effekt auf die Höhe des Rechnungsbetrags.\n",
    "    $$M_{1} \\neq M_{2} \\neq M_{3} \\neq M_{4} \\text { für min. einen Vergleich}$$\n",
    "H0: Der Wochentag kat keinen Effekt auf die Höhe des Rechnungsbetrags.\n",
    "$$M_{1} = M_{2}= M_{3}= M_{4}$$"
   ]
  },
  {
   "cell_type": "markdown",
   "metadata": {},
   "source": [
    "## Voraussetzungen für die einfaktoriellen Varianzanalyse ohne Messwiederholung\n",
    "  "
   ]
  },
  {
   "cell_type": "markdown",
   "metadata": {},
   "source": [
    "✓ Die abhängige Variable ist intervallskaliert -> **Rechnungssumme** ist metrisch\n",
    "\n",
    "✓ Die unabhängige Variable (Faktor) ist kategorial (nominal- oder ordinalskaliert) -> Die Wochentage sind nominal-skaliert.\n",
    "\n",
    "✓ Die durch den Faktor gebildeten Gruppen sind unabhängig. Die Zuordnung zu einem Wochentag an dem im Restaurant konsumiert wurde ist eindeutig.\n",
    "\n",
    "✓ Die abhängige Variablen ist normalverteilt innerhalb jeder der Gruppen (Ab > 25 Probanden pro Gruppe sind Verletzungen in der Regel unproblematisch) -> siehe Histogramm\n",
    "\n",
    "✓ Homogenität der Varianzen: Die Gruppen stammen aus Grundgesamtheiten mit annähernd identischen Varianzen der abhängigen Variablen -> siehe Levene-Test"
   ]
  },
  {
   "cell_type": "markdown",
   "metadata": {},
   "source": [
    "## Grundlegende Konzepte: Was ist die einfaktoriellen Varianzanalyse ohne Messwiederholung"
   ]
  },
  {
   "cell_type": "markdown",
   "metadata": {},
   "source": [
    "Die einfaktorielle Varianzanalyse – auch \"einfaktorielle ANOVA\", da in Englisch \"Analysis of Variance\" – testet, ob sich die Mittelwerte mehrerer unabhängiger Gruppen (oder Stichproben) unterscheiden, die durch eine kategoriale unabhängige Variable definiert werden. Diese kategoriale unabhängige Variable wird im Kontext der Varianzanalyse als \"Faktor\" bezeichnet. Entsprechend werden die Ausprägungen der unabhängigen Variable \"Faktorstufen\" genannt, wobei auch der Begriff der \"Treatments\" gebräuchlich ist. Als \"einfaktoriell\" wird eine Varianzanalyse bezeichnet, wenn sie lediglich einen Faktor, also eine Gruppierungsvariable, verwendet mehrfaktorielle Varianzanalyse).\n",
    "\n",
    "Das Prinzip der Varianzanalyse besteht in der Zerlegung der Varianz der abhängigen Variable. Die Gesamtvarianz setzt sich aus der sogenannten \"Varianz innerhalb der Gruppen\" und der \"Varianz zwischen den Gruppen\" zusammen. Diese beiden Anteile werden im Rahmen einer Varianzanalyse miteinander verglichen. Die einfaktorielle ANOVA stellt eine Verallgemeinerung des t-Tests für unabhängige Stichproben für Vergleich von mehr als zwei Gruppen (oder Stichproben) dar. Die Fragestellung der einfaktoriellen Varianzanalyse wird oft so verkürzt: \"Unterscheiden sich die Mittelwerte einer unabhängigen Variable zwischen mehreren Gruppen? Welche Faktorstufen unterscheiden sich?\" "
   ]
  },
  {
   "cell_type": "markdown",
   "metadata": {},
   "source": [
    "## Deskriptive Statistiken "
   ]
  },
  {
   "cell_type": "markdown",
   "metadata": {},
   "source": [
    "### Übersicht gesamter Datensatz"
   ]
  },
  {
   "cell_type": "code",
   "execution_count": 175,
   "metadata": {
    "scrolled": true
   },
   "outputs": [
    {
     "data": {
      "text/html": [
       "<div>\n",
       "<style scoped>\n",
       "    .dataframe tbody tr th:only-of-type {\n",
       "        vertical-align: middle;\n",
       "    }\n",
       "\n",
       "    .dataframe tbody tr th {\n",
       "        vertical-align: top;\n",
       "    }\n",
       "\n",
       "    .dataframe thead th {\n",
       "        text-align: right;\n",
       "    }\n",
       "</style>\n",
       "<table border=\"1\" class=\"dataframe\">\n",
       "  <thead>\n",
       "    <tr style=\"text-align: right;\">\n",
       "      <th></th>\n",
       "      <th>53</th>\n",
       "      <th>165</th>\n",
       "      <th>37</th>\n",
       "      <th>185</th>\n",
       "      <th>201</th>\n",
       "    </tr>\n",
       "  </thead>\n",
       "  <tbody>\n",
       "    <tr>\n",
       "      <th>total_bill</th>\n",
       "      <td>9.94</td>\n",
       "      <td>24.52</td>\n",
       "      <td>16.93</td>\n",
       "      <td>20.69</td>\n",
       "      <td>12.74</td>\n",
       "    </tr>\n",
       "    <tr>\n",
       "      <th>tip</th>\n",
       "      <td>1.56</td>\n",
       "      <td>3.48</td>\n",
       "      <td>3.07</td>\n",
       "      <td>5</td>\n",
       "      <td>2.01</td>\n",
       "    </tr>\n",
       "    <tr>\n",
       "      <th>sex</th>\n",
       "      <td>Male</td>\n",
       "      <td>Male</td>\n",
       "      <td>Female</td>\n",
       "      <td>Male</td>\n",
       "      <td>Female</td>\n",
       "    </tr>\n",
       "    <tr>\n",
       "      <th>smoker</th>\n",
       "      <td>No</td>\n",
       "      <td>No</td>\n",
       "      <td>No</td>\n",
       "      <td>No</td>\n",
       "      <td>Yes</td>\n",
       "    </tr>\n",
       "    <tr>\n",
       "      <th>day</th>\n",
       "      <td>Sun</td>\n",
       "      <td>Sun</td>\n",
       "      <td>Sat</td>\n",
       "      <td>Sun</td>\n",
       "      <td>Thur</td>\n",
       "    </tr>\n",
       "    <tr>\n",
       "      <th>time</th>\n",
       "      <td>Dinner</td>\n",
       "      <td>Dinner</td>\n",
       "      <td>Dinner</td>\n",
       "      <td>Dinner</td>\n",
       "      <td>Lunch</td>\n",
       "    </tr>\n",
       "    <tr>\n",
       "      <th>size</th>\n",
       "      <td>2</td>\n",
       "      <td>3</td>\n",
       "      <td>3</td>\n",
       "      <td>5</td>\n",
       "      <td>2</td>\n",
       "    </tr>\n",
       "  </tbody>\n",
       "</table>\n",
       "</div>"
      ],
      "text/plain": [
       "               53      165     37      185     201\n",
       "total_bill    9.94   24.52   16.93   20.69   12.74\n",
       "tip           1.56    3.48    3.07       5    2.01\n",
       "sex           Male    Male  Female    Male  Female\n",
       "smoker          No      No      No      No     Yes\n",
       "day            Sun     Sun     Sat     Sun    Thur\n",
       "time        Dinner  Dinner  Dinner  Dinner   Lunch\n",
       "size             2       3       3       5       2"
      ]
     },
     "execution_count": 175,
     "metadata": {},
     "output_type": "execute_result"
    }
   ],
   "source": [
    "df = pd.read_csv(\"F:/Alfatraining/Statistik mit R/Projektarbeit_GruppeC/tips.csv\")\n",
    "df.sample(5).transpose()"
   ]
  },
  {
   "cell_type": "code",
   "execution_count": 173,
   "metadata": {},
   "outputs": [
    {
     "data": {
      "text/html": [
       "<div>\n",
       "<style scoped>\n",
       "    .dataframe tbody tr th:only-of-type {\n",
       "        vertical-align: middle;\n",
       "    }\n",
       "\n",
       "    .dataframe tbody tr th {\n",
       "        vertical-align: top;\n",
       "    }\n",
       "\n",
       "    .dataframe thead th {\n",
       "        text-align: right;\n",
       "    }\n",
       "</style>\n",
       "<table border=\"1\" class=\"dataframe\">\n",
       "  <thead>\n",
       "    <tr style=\"text-align: right;\">\n",
       "      <th></th>\n",
       "      <th>count</th>\n",
       "      <th>unique</th>\n",
       "      <th>top</th>\n",
       "      <th>freq</th>\n",
       "      <th>mean</th>\n",
       "      <th>std</th>\n",
       "      <th>min</th>\n",
       "      <th>25%</th>\n",
       "      <th>50%</th>\n",
       "      <th>75%</th>\n",
       "      <th>max</th>\n",
       "    </tr>\n",
       "  </thead>\n",
       "  <tbody>\n",
       "    <tr>\n",
       "      <th>total_bill</th>\n",
       "      <td>244</td>\n",
       "      <td>NaN</td>\n",
       "      <td>NaN</td>\n",
       "      <td>NaN</td>\n",
       "      <td>19.7859</td>\n",
       "      <td>8.90241</td>\n",
       "      <td>3.07</td>\n",
       "      <td>13.3475</td>\n",
       "      <td>17.795</td>\n",
       "      <td>24.1275</td>\n",
       "      <td>50.81</td>\n",
       "    </tr>\n",
       "    <tr>\n",
       "      <th>tip</th>\n",
       "      <td>244</td>\n",
       "      <td>NaN</td>\n",
       "      <td>NaN</td>\n",
       "      <td>NaN</td>\n",
       "      <td>2.99828</td>\n",
       "      <td>1.38364</td>\n",
       "      <td>1</td>\n",
       "      <td>2</td>\n",
       "      <td>2.9</td>\n",
       "      <td>3.5625</td>\n",
       "      <td>10</td>\n",
       "    </tr>\n",
       "    <tr>\n",
       "      <th>sex</th>\n",
       "      <td>244</td>\n",
       "      <td>2</td>\n",
       "      <td>Male</td>\n",
       "      <td>157</td>\n",
       "      <td>NaN</td>\n",
       "      <td>NaN</td>\n",
       "      <td>NaN</td>\n",
       "      <td>NaN</td>\n",
       "      <td>NaN</td>\n",
       "      <td>NaN</td>\n",
       "      <td>NaN</td>\n",
       "    </tr>\n",
       "    <tr>\n",
       "      <th>smoker</th>\n",
       "      <td>244</td>\n",
       "      <td>2</td>\n",
       "      <td>No</td>\n",
       "      <td>151</td>\n",
       "      <td>NaN</td>\n",
       "      <td>NaN</td>\n",
       "      <td>NaN</td>\n",
       "      <td>NaN</td>\n",
       "      <td>NaN</td>\n",
       "      <td>NaN</td>\n",
       "      <td>NaN</td>\n",
       "    </tr>\n",
       "    <tr>\n",
       "      <th>day</th>\n",
       "      <td>244</td>\n",
       "      <td>4</td>\n",
       "      <td>Sat</td>\n",
       "      <td>87</td>\n",
       "      <td>NaN</td>\n",
       "      <td>NaN</td>\n",
       "      <td>NaN</td>\n",
       "      <td>NaN</td>\n",
       "      <td>NaN</td>\n",
       "      <td>NaN</td>\n",
       "      <td>NaN</td>\n",
       "    </tr>\n",
       "    <tr>\n",
       "      <th>time</th>\n",
       "      <td>244</td>\n",
       "      <td>2</td>\n",
       "      <td>Dinner</td>\n",
       "      <td>176</td>\n",
       "      <td>NaN</td>\n",
       "      <td>NaN</td>\n",
       "      <td>NaN</td>\n",
       "      <td>NaN</td>\n",
       "      <td>NaN</td>\n",
       "      <td>NaN</td>\n",
       "      <td>NaN</td>\n",
       "    </tr>\n",
       "    <tr>\n",
       "      <th>size</th>\n",
       "      <td>244</td>\n",
       "      <td>NaN</td>\n",
       "      <td>NaN</td>\n",
       "      <td>NaN</td>\n",
       "      <td>2.56967</td>\n",
       "      <td>0.9511</td>\n",
       "      <td>1</td>\n",
       "      <td>2</td>\n",
       "      <td>2</td>\n",
       "      <td>3</td>\n",
       "      <td>6</td>\n",
       "    </tr>\n",
       "  </tbody>\n",
       "</table>\n",
       "</div>"
      ],
      "text/plain": [
       "           count unique     top freq     mean      std   min      25%     50%  \\\n",
       "total_bill   244    NaN     NaN  NaN  19.7859  8.90241  3.07  13.3475  17.795   \n",
       "tip          244    NaN     NaN  NaN  2.99828  1.38364     1        2     2.9   \n",
       "sex          244      2    Male  157      NaN      NaN   NaN      NaN     NaN   \n",
       "smoker       244      2      No  151      NaN      NaN   NaN      NaN     NaN   \n",
       "day          244      4     Sat   87      NaN      NaN   NaN      NaN     NaN   \n",
       "time         244      2  Dinner  176      NaN      NaN   NaN      NaN     NaN   \n",
       "size         244    NaN     NaN  NaN  2.56967   0.9511     1        2       2   \n",
       "\n",
       "                75%    max  \n",
       "total_bill  24.1275  50.81  \n",
       "tip          3.5625     10  \n",
       "sex             NaN    NaN  \n",
       "smoker          NaN    NaN  \n",
       "day             NaN    NaN  \n",
       "time            NaN    NaN  \n",
       "size              3      6  "
      ]
     },
     "execution_count": 173,
     "metadata": {},
     "output_type": "execute_result"
    }
   ],
   "source": [
    "df.describe(include = \"all\").transpose()"
   ]
  },
  {
   "cell_type": "code",
   "execution_count": 135,
   "metadata": {},
   "outputs": [
    {
     "data": {
      "text/plain": [
       "total_bill    0\n",
       "tip           0\n",
       "sex           0\n",
       "smoker        0\n",
       "day           0\n",
       "time          0\n",
       "size          0\n",
       "dtype: int64"
      ]
     },
     "execution_count": 135,
     "metadata": {},
     "output_type": "execute_result"
    }
   ],
   "source": [
    "df.isna().sum()"
   ]
  },
  {
   "cell_type": "markdown",
   "metadata": {},
   "source": [
    "Keine fehlenden Werte im Datensatz vorhanden."
   ]
  },
  {
   "cell_type": "code",
   "execution_count": 177,
   "metadata": {},
   "outputs": [
    {
     "data": {
      "text/plain": [
       "<seaborn.axisgrid.PairGrid at 0x1c5b9245048>"
      ]
     },
     "execution_count": 177,
     "metadata": {},
     "output_type": "execute_result"
    },
    {
     "data": {
      "image/png": "[encoded data removed]",
      "text/plain": [
       "<Figure size 598.875x540 with 9 Axes>"
      ]
     },
     "metadata": {
      "needs_background": "light"
     },
     "output_type": "display_data"
    }
   ],
   "source": [
    "sns.pairplot(df, hue = \"day\", corner = True)"
   ]
  },
  {
   "cell_type": "markdown",
   "metadata": {},
   "source": [
    "### unabhängige Variable - day"
   ]
  },
  {
   "cell_type": "code",
   "execution_count": 137,
   "metadata": {},
   "outputs": [
    {
     "data": {
      "text/plain": [
       "Sat     87\n",
       "Sun     76\n",
       "Thur    62\n",
       "Fri     19\n",
       "Name: day, dtype: int64"
      ]
     },
     "execution_count": 137,
     "metadata": {},
     "output_type": "execute_result"
    }
   ],
   "source": [
    "df[\"day\"].value_counts()"
   ]
  },
  {
   "cell_type": "code",
   "execution_count": 138,
   "metadata": {},
   "outputs": [],
   "source": [
    "day_names = df[\"day\"].unique()\n",
    "day_counts = np.asarray(df[\"day\"].value_counts())"
   ]
  },
  {
   "cell_type": "code",
   "execution_count": 139,
   "metadata": {},
   "outputs": [
    {
     "data": {
      "text/plain": [
       "[Text(0.5, 1.0, 'Häufigkeit Wochentage')]"
      ]
     },
     "execution_count": 139,
     "metadata": {},
     "output_type": "execute_result"
    },
    {
     "data": {
      "image/png": "[encoded data removed]",
      "text/plain": [
       "<Figure size 432x288 with 1 Axes>"
      ]
     },
     "metadata": {
      "needs_background": "light"
     },
     "output_type": "display_data"
    }
   ],
   "source": [
    "fig, ax = plt.subplots()\n",
    "ax.bar(day_names, day_counts)\n",
    "ax.set(title = \"Häufigkeit Wochentage\")"
   ]
  },
  {
   "cell_type": "markdown",
   "metadata": {},
   "source": [
    "### abhängige Variable - total bill"
   ]
  },
  {
   "cell_type": "code",
   "execution_count": 172,
   "metadata": {},
   "outputs": [
    {
     "data": {
      "text/plain": [
       "count    244.000000\n",
       "mean      19.785943\n",
       "std        8.902412\n",
       "min        3.070000\n",
       "25%       13.347500\n",
       "50%       17.795000\n",
       "75%       24.127500\n",
       "max       50.810000\n",
       "Name: total_bill, dtype: float64"
      ]
     },
     "execution_count": 172,
     "metadata": {},
     "output_type": "execute_result"
    }
   ],
   "source": [
    "df[\"total_bill\"].describe()"
   ]
  },
  {
   "cell_type": "code",
   "execution_count": 141,
   "metadata": {},
   "outputs": [
    {
     "data": {
      "text/plain": [
       "Text(0.5, 1.0, 'Histogramm Gesamtsumme')"
      ]
     },
     "execution_count": 141,
     "metadata": {},
     "output_type": "execute_result"
    },
    {
     "data": {
      "image/png": "[encoded data removed]",
      "text/plain": [
       "<Figure size 432x288 with 1 Axes>"
      ]
     },
     "metadata": {
      "needs_background": "light"
     },
     "output_type": "display_data"
    }
   ],
   "source": [
    "sns.histplot(df[\"total_bill\"], kde = True,).set_title(\"Histogramm Gesamtsumme\")"
   ]
  },
  {
   "cell_type": "code",
   "execution_count": 142,
   "metadata": {},
   "outputs": [
    {
     "data": {
      "text/html": [
       "<div>\n",
       "<style scoped>\n",
       "    .dataframe tbody tr th:only-of-type {\n",
       "        vertical-align: middle;\n",
       "    }\n",
       "\n",
       "    .dataframe tbody tr th {\n",
       "        vertical-align: top;\n",
       "    }\n",
       "\n",
       "    .dataframe thead th {\n",
       "        text-align: right;\n",
       "    }\n",
       "</style>\n",
       "<table border=\"1\" class=\"dataframe\">\n",
       "  <thead>\n",
       "    <tr style=\"text-align: right;\">\n",
       "      <th></th>\n",
       "      <th>W</th>\n",
       "      <th>pval</th>\n",
       "      <th>normal</th>\n",
       "    </tr>\n",
       "  </thead>\n",
       "  <tbody>\n",
       "    <tr>\n",
       "      <th>total_bill</th>\n",
       "      <td>0.919719</td>\n",
       "      <td>3.324543e-10</td>\n",
       "      <td>False</td>\n",
       "    </tr>\n",
       "  </tbody>\n",
       "</table>\n",
       "</div>"
      ],
      "text/plain": [
       "                   W          pval  normal\n",
       "total_bill  0.919719  3.324543e-10   False"
      ]
     },
     "execution_count": 142,
     "metadata": {},
     "output_type": "execute_result"
    }
   ],
   "source": [
    "pg.normality(df[\"total_bill\"], method = \"shapiro\")"
   ]
  },
  {
   "cell_type": "markdown",
   "metadata": {},
   "source": [
    "### total_bill nach Wochentag"
   ]
  },
  {
   "cell_type": "code",
   "execution_count": 143,
   "metadata": {},
   "outputs": [],
   "source": [
    "grouped = df.groupby(by = df[\"day\"])"
   ]
  },
  {
   "cell_type": "code",
   "execution_count": 170,
   "metadata": {},
   "outputs": [
    {
     "data": {
      "text/html": [
       "<div>\n",
       "<style scoped>\n",
       "    .dataframe tbody tr th:only-of-type {\n",
       "        vertical-align: middle;\n",
       "    }\n",
       "\n",
       "    .dataframe tbody tr th {\n",
       "        vertical-align: top;\n",
       "    }\n",
       "\n",
       "    .dataframe thead th {\n",
       "        text-align: right;\n",
       "    }\n",
       "</style>\n",
       "<table border=\"1\" class=\"dataframe\">\n",
       "  <thead>\n",
       "    <tr style=\"text-align: right;\">\n",
       "      <th>day</th>\n",
       "      <th>Fri</th>\n",
       "      <th>Sat</th>\n",
       "      <th>Sun</th>\n",
       "      <th>Thur</th>\n",
       "    </tr>\n",
       "  </thead>\n",
       "  <tbody>\n",
       "    <tr>\n",
       "      <th>count</th>\n",
       "      <td>19.000000</td>\n",
       "      <td>87.000000</td>\n",
       "      <td>76.000000</td>\n",
       "      <td>62.000000</td>\n",
       "    </tr>\n",
       "    <tr>\n",
       "      <th>mean</th>\n",
       "      <td>17.151579</td>\n",
       "      <td>20.441379</td>\n",
       "      <td>21.410000</td>\n",
       "      <td>17.682742</td>\n",
       "    </tr>\n",
       "    <tr>\n",
       "      <th>std</th>\n",
       "      <td>8.302660</td>\n",
       "      <td>9.480419</td>\n",
       "      <td>8.832122</td>\n",
       "      <td>7.886170</td>\n",
       "    </tr>\n",
       "    <tr>\n",
       "      <th>min</th>\n",
       "      <td>5.750000</td>\n",
       "      <td>3.070000</td>\n",
       "      <td>7.250000</td>\n",
       "      <td>7.510000</td>\n",
       "    </tr>\n",
       "    <tr>\n",
       "      <th>25%</th>\n",
       "      <td>12.095000</td>\n",
       "      <td>13.905000</td>\n",
       "      <td>14.987500</td>\n",
       "      <td>12.442500</td>\n",
       "    </tr>\n",
       "    <tr>\n",
       "      <th>50%</th>\n",
       "      <td>15.380000</td>\n",
       "      <td>18.240000</td>\n",
       "      <td>19.630000</td>\n",
       "      <td>16.200000</td>\n",
       "    </tr>\n",
       "    <tr>\n",
       "      <th>75%</th>\n",
       "      <td>21.750000</td>\n",
       "      <td>24.740000</td>\n",
       "      <td>25.597500</td>\n",
       "      <td>20.155000</td>\n",
       "    </tr>\n",
       "    <tr>\n",
       "      <th>max</th>\n",
       "      <td>40.170000</td>\n",
       "      <td>50.810000</td>\n",
       "      <td>48.170000</td>\n",
       "      <td>43.110000</td>\n",
       "    </tr>\n",
       "  </tbody>\n",
       "</table>\n",
       "</div>"
      ],
      "text/plain": [
       "day          Fri        Sat        Sun       Thur\n",
       "count  19.000000  87.000000  76.000000  62.000000\n",
       "mean   17.151579  20.441379  21.410000  17.682742\n",
       "std     8.302660   9.480419   8.832122   7.886170\n",
       "min     5.750000   3.070000   7.250000   7.510000\n",
       "25%    12.095000  13.905000  14.987500  12.442500\n",
       "50%    15.380000  18.240000  19.630000  16.200000\n",
       "75%    21.750000  24.740000  25.597500  20.155000\n",
       "max    40.170000  50.810000  48.170000  43.110000"
      ]
     },
     "execution_count": 170,
     "metadata": {},
     "output_type": "execute_result"
    }
   ],
   "source": [
    "grouped[\"total_bill\"].describe().transpose()"
   ]
  },
  {
   "cell_type": "code",
   "execution_count": 145,
   "metadata": {},
   "outputs": [
    {
     "data": {
      "text/plain": [
       "Text(0.5, 1.0, 'Histogramm Trinkgeld Sonntag')"
      ]
     },
     "execution_count": 145,
     "metadata": {},
     "output_type": "execute_result"
    },
    {
     "data": {
      "image/png": "[encoded data removed]",
      "text/plain": [
       "<Figure size 720x720 with 4 Axes>"
      ]
     },
     "metadata": {
      "needs_background": "light"
     },
     "output_type": "display_data"
    }
   ],
   "source": [
    "minrange = df[\"total_bill\"].min()\n",
    "maxrange = df[\"total_bill\"].max()\n",
    "\n",
    "fig, axs = plt.subplots(2,2,figsize=(10,10))\n",
    "sns.histplot(df[df[\"day\"]== \"Thur\"][\"total_bill\"], binrange = (minrange,maxrange), kde = True,\n",
    "             bins = 12, ax=axs[0,0]).set_title(\"Histogramm Trinkgeld Donnerstag\")\n",
    "sns.histplot(df[df[\"day\"]== \"Fri\"][\"total_bill\"], binrange = (minrange,maxrange), kde = True,\n",
    "             bins = 12, ax=axs[0,1]).set_title(\"Histogramm Trinkgeld Freitag\")\n",
    "sns.histplot(df[df[\"day\"]== \"Sat\"][\"total_bill\"], binrange = (minrange,maxrange), kde = True,\n",
    "             bins = 12, ax=axs[1,0]).set_title(\"Histogramm Trinkgeld Samstag\")\n",
    "sns.histplot(df[df[\"day\"]== \"Sun\"][\"total_bill\"], binrange = (minrange,maxrange), kde = True,\n",
    "             bins = 12, ax=axs[1,1]).set_title(\"Histogramm Trinkgeld Sonntag\") "
   ]
  },
  {
   "cell_type": "code",
   "execution_count": 146,
   "metadata": {},
   "outputs": [
    {
     "data": {
      "text/html": [
       "<div>\n",
       "<style scoped>\n",
       "    .dataframe tbody tr th:only-of-type {\n",
       "        vertical-align: middle;\n",
       "    }\n",
       "\n",
       "    .dataframe tbody tr th {\n",
       "        vertical-align: top;\n",
       "    }\n",
       "\n",
       "    .dataframe thead th {\n",
       "        text-align: right;\n",
       "    }\n",
       "</style>\n",
       "<table border=\"1\" class=\"dataframe\">\n",
       "  <thead>\n",
       "    <tr style=\"text-align: right;\">\n",
       "      <th></th>\n",
       "      <th>W</th>\n",
       "      <th>pval</th>\n",
       "      <th>normal</th>\n",
       "    </tr>\n",
       "  </thead>\n",
       "  <tbody>\n",
       "    <tr>\n",
       "      <th>Sun</th>\n",
       "      <td>0.947939</td>\n",
       "      <td>0.003566</td>\n",
       "      <td>False</td>\n",
       "    </tr>\n",
       "    <tr>\n",
       "      <th>Sat</th>\n",
       "      <td>0.903476</td>\n",
       "      <td>0.000008</td>\n",
       "      <td>False</td>\n",
       "    </tr>\n",
       "    <tr>\n",
       "      <th>Thur</th>\n",
       "      <td>0.884489</td>\n",
       "      <td>0.000029</td>\n",
       "      <td>False</td>\n",
       "    </tr>\n",
       "    <tr>\n",
       "      <th>Fri</th>\n",
       "      <td>0.895793</td>\n",
       "      <td>0.040856</td>\n",
       "      <td>False</td>\n",
       "    </tr>\n",
       "  </tbody>\n",
       "</table>\n",
       "</div>"
      ],
      "text/plain": [
       "             W      pval  normal\n",
       "Sun   0.947939  0.003566   False\n",
       "Sat   0.903476  0.000008   False\n",
       "Thur  0.884489  0.000029   False\n",
       "Fri   0.895793  0.040856   False"
      ]
     },
     "execution_count": 146,
     "metadata": {},
     "output_type": "execute_result"
    }
   ],
   "source": [
    "pg.normality(data = df, dv=\"total_bill\", group=\"day\", method = \"shapiro\")"
   ]
  },
  {
   "cell_type": "code",
   "execution_count": 147,
   "metadata": {},
   "outputs": [
    {
     "data": {
      "image/png": "[encoded data removed]",
      "text/plain": [
       "<Figure size 432x288 with 1 Axes>"
      ]
     },
     "metadata": {
      "needs_background": "light"
     },
     "output_type": "display_data"
    }
   ],
   "source": [
    "ax = sns.boxplot(x=\"day\", y=\"total_bill\",\n",
    "                    data=df, palette=\"Set2\")"
   ]
  },
  {
   "cell_type": "markdown",
   "metadata": {},
   "source": [
    "Der Boxplot zeigt Ausreisser. Die Verteilungen scheinen sich nicht sehr stark voneinander zu unterscheiden, da sich die Interquartilsdistanzen Q1-Q3 start überschneiden. Median-Unterschiede liegen geringfügig vor zwischen Donnerstag / Freitag auf der einen und Samstag / Sonntag auf der anderen Seite."
   ]
  },
  {
   "cell_type": "code",
   "execution_count": 148,
   "metadata": {},
   "outputs": [
    {
     "data": {
      "image/png": "[encoded data removed]",
      "text/plain": [
       "<Figure size 432x288 with 1 Axes>"
      ]
     },
     "metadata": {
      "needs_background": "light"
     },
     "output_type": "display_data"
    }
   ],
   "source": [
    "ax = sns.violinplot(x=\"day\", y=\"total_bill\",\n",
    "                    data=df, palette=\"Set2\", split=False,\n",
    "                    scale=\"count\")"
   ]
  },
  {
   "cell_type": "markdown",
   "metadata": {},
   "source": [
    "Der Violinplot zeigt die Dichte der Verteilung der total_bill nach Wochentagen. Zusätzlich zu den Boxplots wird hier die Rechtsschiefe, die typisch für monetäre Variablen ist, gut ersichtlich. Ebenso die unterschiedlichen Häufigkeiten der Zahlungsvorgänge, vor allem der Freitag kommt in den Daten deutlich seltener vor."
   ]
  },
  {
   "cell_type": "markdown",
   "metadata": {},
   "source": [
    "QQplots scipy vs pingouin"
   ]
  },
  {
   "cell_type": "code",
   "execution_count": 149,
   "metadata": {},
   "outputs": [
    {
     "data": {
      "image/png": "[encoded data removed]",
      "text/plain": [
       "<Figure size 432x288 with 1 Axes>"
      ]
     },
     "metadata": {
      "needs_background": "light"
     },
     "output_type": "display_data"
    }
   ],
   "source": [
    "import pylab \n",
    "import scipy.stats as stats\n",
    "stats.probplot(df[\"total_bill\"], dist=\"norm\", plot=pylab)\n",
    "pylab.show()"
   ]
  },
  {
   "cell_type": "code",
   "execution_count": 176,
   "metadata": {},
   "outputs": [
    {
     "data": {
      "text/plain": [
       "<AxesSubplot:title={'center':'Q-Q Plot'}, xlabel='Theoretical quantiles', ylabel='Ordered quantiles'>"
      ]
     },
     "execution_count": 176,
     "metadata": {},
     "output_type": "execute_result"
    },
    {
     "data": {
      "image/png": "[encoded data removed]",
      "text/plain": [
       "<Figure size 360x288 with 1 Axes>"
      ]
     },
     "metadata": {
      "needs_background": "light"
     },
     "output_type": "display_data"
    }
   ],
   "source": [
    "pg.qqplot(df[\"total_bill\"], dist=\"norm\")"
   ]
  },
  {
   "cell_type": "markdown",
   "metadata": {},
   "source": [
    "Sowohl niedrige Werte als auch hohe Werte von total_bill treten laut QQ-Plot häufiger auf als in der Normalverteilung zu erwarten wäre."
   ]
  },
  {
   "cell_type": "markdown",
   "metadata": {},
   "source": [
    "### Zusammenfassung - Liegt Normalverteilung vor?"
   ]
  },
  {
   "cell_type": "markdown",
   "metadata": {},
   "source": [
    "Die Verteilung der Variable total_bill ist rechtsschief sowohl in der Gesamtheit als auch nach Wochentagen unterteilt. Laut dem Shapiro-Wilk-Test auf Normalverteilung ist total_bill insgesamt nicht normalverteilt (W = 0.919719, p = 3.324543e-10). Dies gilt auch für die Rechnungssummen nach Wochentagen unterteilt.<br>\n",
    "Sun \t0.947939 \t0.003566 \tFalse<br>\n",
    "Sat \t0.903476 \t0.000008 \tFalse<br>\n",
    "Thur \t0.884489 \t0.000029 \tFalse<br>\n",
    "Fri \t0.895793 \t0.040856 \tFalse<br>\n",
    "Für den Freitag, der mit 19 eine deutlich geringere Fallzahl aufweist, ist der kritische Wert zur Verwerfung der H0 (es liegt keine Normalverteilung vor) immerhin knapp erreicht. Hier liegt jedoch für das weitere Vorgehen das Problem, dass die Verletzung der Normalität bei einer kleinen Gruppengröße wie am Freitag (n=19 < 25) gravierender ist als für die anderen Tage (Donnerstag n = 62, Samstag n = 87, Sonntag n = 76). Von entscheidender Wichtigkeit für die Varianzanalyse ist das Vorliegen von Varianzhomogenität, welche im Folgenden untersucht werden soll.\n"
   ]
  },
  {
   "cell_type": "markdown",
   "metadata": {},
   "source": [
    "## Prüfung der Varianzhomogenität (Levene-Test)\n"
   ]
  },
  {
   "cell_type": "markdown",
   "metadata": {},
   "source": [
    "Levene-Test mit scipy"
   ]
  },
  {
   "cell_type": "code",
   "execution_count": 150,
   "metadata": {},
   "outputs": [],
   "source": [
    "from scipy.stats import levene"
   ]
  },
  {
   "cell_type": "code",
   "execution_count": 151,
   "metadata": {},
   "outputs": [
    {
     "data": {
      "text/plain": [
       "LeveneResult(statistic=0.6921000696452873, pvalue=0.557665985493351)"
      ]
     },
     "execution_count": 151,
     "metadata": {},
     "output_type": "execute_result"
    }
   ],
   "source": [
    "levene(df[df[\"day\"]== \"Thur\"][\"total_bill\"], df[df[\"day\"]== \"Fri\"][\"total_bill\"], \n",
    "       df[df[\"day\"]== \"Sat\"][\"total_bill\"], df[df[\"day\"]== \"Sun\"][\"total_bill\"], center = \"mean\")"
   ]
  },
  {
   "cell_type": "markdown",
   "metadata": {},
   "source": [
    "Levene-Test mit pingouin"
   ]
  },
  {
   "cell_type": "code",
   "execution_count": 152,
   "metadata": {},
   "outputs": [
    {
     "data": {
      "text/html": [
       "<div>\n",
       "<style scoped>\n",
       "    .dataframe tbody tr th:only-of-type {\n",
       "        vertical-align: middle;\n",
       "    }\n",
       "\n",
       "    .dataframe tbody tr th {\n",
       "        vertical-align: top;\n",
       "    }\n",
       "\n",
       "    .dataframe thead th {\n",
       "        text-align: right;\n",
       "    }\n",
       "</style>\n",
       "<table border=\"1\" class=\"dataframe\">\n",
       "  <thead>\n",
       "    <tr style=\"text-align: right;\">\n",
       "      <th></th>\n",
       "      <th>W</th>\n",
       "      <th>pval</th>\n",
       "      <th>equal_var</th>\n",
       "    </tr>\n",
       "  </thead>\n",
       "  <tbody>\n",
       "    <tr>\n",
       "      <th>levene</th>\n",
       "      <td>0.665358</td>\n",
       "      <td>0.574079</td>\n",
       "      <td>True</td>\n",
       "    </tr>\n",
       "  </tbody>\n",
       "</table>\n",
       "</div>"
      ],
      "text/plain": [
       "               W      pval  equal_var\n",
       "levene  0.665358  0.574079       True"
      ]
     },
     "execution_count": 152,
     "metadata": {},
     "output_type": "execute_result"
    }
   ],
   "source": [
    "pg.homoscedasticity(data = df, dv = \"total_bill\", group = \"day\", method = \"levene\", alpha = 0.05)"
   ]
  },
  {
   "cell_type": "markdown",
   "metadata": {},
   "source": [
    "Beim Levene-Test ist zu beachten, dass Pingouion immer den Median als Center verwendet, in der scipy-Funktion kann das center als Parameter eingestellt werden. <br>\n",
    "Der Levene-Test ergibt mit W=1.70 und p=0.166 > 0.05, dass die Nullhypothese der Varianzhomogenität (es läge Varianzheterogenität vor) verworfen werden kann. Wir können des Weiteren von Varianzhomogentät in total_bill zwischen den Wochentagen ausgehen und können die Anova ohne Welch-Korrektur berechnen."
   ]
  },
  {
   "cell_type": "markdown",
   "metadata": {},
   "source": [
    "## Ergebnisse der einfaktoriellen Varianzanalyse ohne Messwiederholung\n"
   ]
  },
  {
   "cell_type": "markdown",
   "metadata": {},
   "source": [
    "Deskriptive Analyse"
   ]
  },
  {
   "cell_type": "code",
   "execution_count": 169,
   "metadata": {},
   "outputs": [
    {
     "data": {
      "text/html": [
       "<div>\n",
       "<style scoped>\n",
       "    .dataframe tbody tr th:only-of-type {\n",
       "        vertical-align: middle;\n",
       "    }\n",
       "\n",
       "    .dataframe tbody tr th {\n",
       "        vertical-align: top;\n",
       "    }\n",
       "\n",
       "    .dataframe thead th {\n",
       "        text-align: right;\n",
       "    }\n",
       "</style>\n",
       "<table border=\"1\" class=\"dataframe\">\n",
       "  <thead>\n",
       "    <tr style=\"text-align: right;\">\n",
       "      <th>day</th>\n",
       "      <th>Fri</th>\n",
       "      <th>Sat</th>\n",
       "      <th>Sun</th>\n",
       "      <th>Thur</th>\n",
       "    </tr>\n",
       "  </thead>\n",
       "  <tbody>\n",
       "    <tr>\n",
       "      <th>count</th>\n",
       "      <td>19.000000</td>\n",
       "      <td>87.000000</td>\n",
       "      <td>76.000000</td>\n",
       "      <td>62.000000</td>\n",
       "    </tr>\n",
       "    <tr>\n",
       "      <th>mean</th>\n",
       "      <td>17.151579</td>\n",
       "      <td>20.441379</td>\n",
       "      <td>21.410000</td>\n",
       "      <td>17.682742</td>\n",
       "    </tr>\n",
       "    <tr>\n",
       "      <th>std</th>\n",
       "      <td>8.302660</td>\n",
       "      <td>9.480419</td>\n",
       "      <td>8.832122</td>\n",
       "      <td>7.886170</td>\n",
       "    </tr>\n",
       "    <tr>\n",
       "      <th>min</th>\n",
       "      <td>5.750000</td>\n",
       "      <td>3.070000</td>\n",
       "      <td>7.250000</td>\n",
       "      <td>7.510000</td>\n",
       "    </tr>\n",
       "    <tr>\n",
       "      <th>25%</th>\n",
       "      <td>12.095000</td>\n",
       "      <td>13.905000</td>\n",
       "      <td>14.987500</td>\n",
       "      <td>12.442500</td>\n",
       "    </tr>\n",
       "    <tr>\n",
       "      <th>50%</th>\n",
       "      <td>15.380000</td>\n",
       "      <td>18.240000</td>\n",
       "      <td>19.630000</td>\n",
       "      <td>16.200000</td>\n",
       "    </tr>\n",
       "    <tr>\n",
       "      <th>75%</th>\n",
       "      <td>21.750000</td>\n",
       "      <td>24.740000</td>\n",
       "      <td>25.597500</td>\n",
       "      <td>20.155000</td>\n",
       "    </tr>\n",
       "    <tr>\n",
       "      <th>max</th>\n",
       "      <td>40.170000</td>\n",
       "      <td>50.810000</td>\n",
       "      <td>48.170000</td>\n",
       "      <td>43.110000</td>\n",
       "    </tr>\n",
       "  </tbody>\n",
       "</table>\n",
       "</div>"
      ],
      "text/plain": [
       "day          Fri        Sat        Sun       Thur\n",
       "count  19.000000  87.000000  76.000000  62.000000\n",
       "mean   17.151579  20.441379  21.410000  17.682742\n",
       "std     8.302660   9.480419   8.832122   7.886170\n",
       "min     5.750000   3.070000   7.250000   7.510000\n",
       "25%    12.095000  13.905000  14.987500  12.442500\n",
       "50%    15.380000  18.240000  19.630000  16.200000\n",
       "75%    21.750000  24.740000  25.597500  20.155000\n",
       "max    40.170000  50.810000  48.170000  43.110000"
      ]
     },
     "execution_count": 169,
     "metadata": {},
     "output_type": "execute_result"
    }
   ],
   "source": [
    "grouped[\"total_bill\"].describe().transpose()"
   ]
  },
  {
   "cell_type": "markdown",
   "metadata": {},
   "source": [
    "Die Gruppenmittelwerte weisen eine Spanne von 2.533 zwischen 19.22 (Donnerstags)und 21.75 (Sonntags) auf. Die Mediane hingegen liegen zwischen 17.165 und 18.240 sehr nah beieinander und niedriger als die Mittelwerte. Dies deutet darauf hin dass total_bill von Ausreissern nach oben gekennzeichnet ist und diese je nach Wochentag auch unterschiedlich stark ausfallen."
   ]
  },
  {
   "cell_type": "markdown",
   "metadata": {},
   "source": [
    "Bei Mittelwerten von 19.221, 21.753, 20.127, 19.364 (Do Fr Sa So), Standardabweichung von 8.654, 10.693, 9.821 und 7.499 und Fallzahlen von 62, 19, 87 und 76 könnte es für die Anova schwierig werden, signifikante Gruppenunterschiede festzustellen."
   ]
  },
  {
   "cell_type": "code",
   "execution_count": 154,
   "metadata": {},
   "outputs": [],
   "source": [
    "from scipy.stats import f_oneway"
   ]
  },
  {
   "cell_type": "code",
   "execution_count": 155,
   "metadata": {},
   "outputs": [
    {
     "data": {
      "text/plain": [
       "F_onewayResult(statistic=2.7674794432863363, pvalue=0.04245383328952047)"
      ]
     },
     "execution_count": 155,
     "metadata": {},
     "output_type": "execute_result"
    }
   ],
   "source": [
    "f_oneway(df[df[\"day\"]== \"Thur\"][\"total_bill\"], df[df[\"day\"]== \"Fri\"][\"total_bill\"], \n",
    "       df[df[\"day\"]== \"Sat\"][\"total_bill\"], df[df[\"day\"]== \"Sun\"][\"total_bill\"])"
   ]
  },
  {
   "cell_type": "code",
   "execution_count": 156,
   "metadata": {},
   "outputs": [
    {
     "data": {
      "text/html": [
       "<div>\n",
       "<style scoped>\n",
       "    .dataframe tbody tr th:only-of-type {\n",
       "        vertical-align: middle;\n",
       "    }\n",
       "\n",
       "    .dataframe tbody tr th {\n",
       "        vertical-align: top;\n",
       "    }\n",
       "\n",
       "    .dataframe thead th {\n",
       "        text-align: right;\n",
       "    }\n",
       "</style>\n",
       "<table border=\"1\" class=\"dataframe\">\n",
       "  <thead>\n",
       "    <tr style=\"text-align: right;\">\n",
       "      <th></th>\n",
       "      <th>Source</th>\n",
       "      <th>SS</th>\n",
       "      <th>DF</th>\n",
       "      <th>MS</th>\n",
       "      <th>F</th>\n",
       "      <th>p-unc</th>\n",
       "      <th>np2</th>\n",
       "    </tr>\n",
       "  </thead>\n",
       "  <tbody>\n",
       "    <tr>\n",
       "      <th>0</th>\n",
       "      <td>day</td>\n",
       "      <td>643.941362</td>\n",
       "      <td>3</td>\n",
       "      <td>214.647121</td>\n",
       "      <td>2.767479</td>\n",
       "      <td>0.042454</td>\n",
       "      <td>0.033437</td>\n",
       "    </tr>\n",
       "    <tr>\n",
       "      <th>1</th>\n",
       "      <td>Within</td>\n",
       "      <td>18614.522721</td>\n",
       "      <td>240</td>\n",
       "      <td>77.560511</td>\n",
       "      <td>NaN</td>\n",
       "      <td>NaN</td>\n",
       "      <td>NaN</td>\n",
       "    </tr>\n",
       "  </tbody>\n",
       "</table>\n",
       "</div>"
      ],
      "text/plain": [
       "   Source            SS   DF          MS         F     p-unc       np2\n",
       "0     day    643.941362    3  214.647121  2.767479  0.042454  0.033437\n",
       "1  Within  18614.522721  240   77.560511       NaN       NaN       NaN"
      ]
     },
     "execution_count": 156,
     "metadata": {},
     "output_type": "execute_result"
    }
   ],
   "source": [
    "total_bill_aov = df.anova(dv='total_bill', between='day', detailed=True, effsize='np2')\n",
    "total_bill_aov"
   ]
  },
  {
   "cell_type": "markdown",
   "metadata": {},
   "source": [
    "Das Gesamtmodel ist bei F(3, 240) = 2.767 , p = 0.0424 auf dem 5%-Niveau signifikant.\n",
    "Ob sich einzelne Tage signifikant unterscheiden ist anhand dieses Tests über alle Gruppen hinweg nocht nicht bestimmen. Dies soll im Folgenden mit Post-hoc Tests ermittelt werden."
   ]
  },
  {
   "cell_type": "markdown",
   "metadata": {},
   "source": [
    "Die Durchführung einer Welch-Korrektur in der Anova ist zwar nicht nötig da homogene Varianzen zw. Wochentagen vorlagen, aber zur Demonstration:"
   ]
  },
  {
   "cell_type": "code",
   "execution_count": 157,
   "metadata": {},
   "outputs": [
    {
     "data": {
      "text/html": [
       "<div>\n",
       "<style scoped>\n",
       "    .dataframe tbody tr th:only-of-type {\n",
       "        vertical-align: middle;\n",
       "    }\n",
       "\n",
       "    .dataframe tbody tr th {\n",
       "        vertical-align: top;\n",
       "    }\n",
       "\n",
       "    .dataframe thead th {\n",
       "        text-align: right;\n",
       "    }\n",
       "</style>\n",
       "<table border=\"1\" class=\"dataframe\">\n",
       "  <thead>\n",
       "    <tr style=\"text-align: right;\">\n",
       "      <th></th>\n",
       "      <th>Source</th>\n",
       "      <th>ddof1</th>\n",
       "      <th>ddof2</th>\n",
       "      <th>F</th>\n",
       "      <th>p-unc</th>\n",
       "      <th>np2</th>\n",
       "    </tr>\n",
       "  </thead>\n",
       "  <tbody>\n",
       "    <tr>\n",
       "      <th>0</th>\n",
       "      <td>day</td>\n",
       "      <td>3</td>\n",
       "      <td>75.305338</td>\n",
       "      <td>3.011323</td>\n",
       "      <td>0.035306</td>\n",
       "      <td>0.033437</td>\n",
       "    </tr>\n",
       "  </tbody>\n",
       "</table>\n",
       "</div>"
      ],
      "text/plain": [
       "  Source  ddof1      ddof2         F     p-unc       np2\n",
       "0    day      3  75.305338  3.011323  0.035306  0.033437"
      ]
     },
     "execution_count": 157,
     "metadata": {},
     "output_type": "execute_result"
    }
   ],
   "source": [
    "pg.welch_anova(data = df, dv='total_bill', between='day')"
   ]
  },
  {
   "cell_type": "markdown",
   "metadata": {},
   "source": [
    "Aufgrund der Ergebnisse der Varianzanalyse kann bereits festgehalten werden, dass die H0 für den Gesamteffekt verworfen werden kann."
   ]
  },
  {
   "cell_type": "markdown",
   "metadata": {},
   "source": [
    "## Post-hoc-Tests\n"
   ]
  },
  {
   "cell_type": "markdown",
   "metadata": {},
   "source": [
    "Posthoc in Pingouin: kein pooled standard error zw. Gruppen oder Interaktionen wie in JASP.\n",
    "Die Funktion pairwise_ttests steht wie in R mit einigen p adjusttment methods zur Verfügung. Des weiteren gibt es die Funktionen pairwise_tukey und pairwise_gameshowell"
   ]
  },
  {
   "cell_type": "code",
   "execution_count": 158,
   "metadata": {},
   "outputs": [
    {
     "data": {
      "text/html": [
       "<div>\n",
       "<style scoped>\n",
       "    .dataframe tbody tr th:only-of-type {\n",
       "        vertical-align: middle;\n",
       "    }\n",
       "\n",
       "    .dataframe tbody tr th {\n",
       "        vertical-align: top;\n",
       "    }\n",
       "\n",
       "    .dataframe thead th {\n",
       "        text-align: right;\n",
       "    }\n",
       "</style>\n",
       "<table border=\"1\" class=\"dataframe\">\n",
       "  <thead>\n",
       "    <tr style=\"text-align: right;\">\n",
       "      <th></th>\n",
       "      <th>Contrast</th>\n",
       "      <th>A</th>\n",
       "      <th>B</th>\n",
       "      <th>mean(A)</th>\n",
       "      <th>std(A)</th>\n",
       "      <th>mean(B)</th>\n",
       "      <th>std(B)</th>\n",
       "      <th>Paired</th>\n",
       "      <th>Parametric</th>\n",
       "      <th>T</th>\n",
       "      <th>dof</th>\n",
       "      <th>Tail</th>\n",
       "      <th>p-unc</th>\n",
       "      <th>p-corr</th>\n",
       "      <th>p-adjust</th>\n",
       "      <th>BF10</th>\n",
       "      <th>eta-square</th>\n",
       "    </tr>\n",
       "  </thead>\n",
       "  <tbody>\n",
       "    <tr>\n",
       "      <th>0</th>\n",
       "      <td>day</td>\n",
       "      <td>Sun</td>\n",
       "      <td>Sat</td>\n",
       "      <td>21.410</td>\n",
       "      <td>8.832</td>\n",
       "      <td>20.441</td>\n",
       "      <td>9.480</td>\n",
       "      <td>False</td>\n",
       "      <td>True</td>\n",
       "      <td>0.675</td>\n",
       "      <td>160.318</td>\n",
       "      <td>two-sided</td>\n",
       "      <td>0.501</td>\n",
       "      <td>1.000</td>\n",
       "      <td>bonf</td>\n",
       "      <td>0.209</td>\n",
       "      <td>0.003</td>\n",
       "    </tr>\n",
       "    <tr>\n",
       "      <th>1</th>\n",
       "      <td>day</td>\n",
       "      <td>Sun</td>\n",
       "      <td>Thur</td>\n",
       "      <td>21.410</td>\n",
       "      <td>8.832</td>\n",
       "      <td>17.683</td>\n",
       "      <td>7.886</td>\n",
       "      <td>False</td>\n",
       "      <td>True</td>\n",
       "      <td>2.616</td>\n",
       "      <td>134.860</td>\n",
       "      <td>two-sided</td>\n",
       "      <td>0.010</td>\n",
       "      <td>0.059</td>\n",
       "      <td>bonf</td>\n",
       "      <td>3.984</td>\n",
       "      <td>0.047</td>\n",
       "    </tr>\n",
       "    <tr>\n",
       "      <th>2</th>\n",
       "      <td>day</td>\n",
       "      <td>Sun</td>\n",
       "      <td>Fri</td>\n",
       "      <td>21.410</td>\n",
       "      <td>8.832</td>\n",
       "      <td>17.152</td>\n",
       "      <td>8.303</td>\n",
       "      <td>False</td>\n",
       "      <td>True</td>\n",
       "      <td>1.974</td>\n",
       "      <td>29.067</td>\n",
       "      <td>two-sided</td>\n",
       "      <td>0.058</td>\n",
       "      <td>0.348</td>\n",
       "      <td>bonf</td>\n",
       "      <td>1.327</td>\n",
       "      <td>0.056</td>\n",
       "    </tr>\n",
       "    <tr>\n",
       "      <th>3</th>\n",
       "      <td>day</td>\n",
       "      <td>Sat</td>\n",
       "      <td>Thur</td>\n",
       "      <td>20.441</td>\n",
       "      <td>9.480</td>\n",
       "      <td>17.683</td>\n",
       "      <td>7.886</td>\n",
       "      <td>False</td>\n",
       "      <td>True</td>\n",
       "      <td>1.933</td>\n",
       "      <td>143.436</td>\n",
       "      <td>two-sided</td>\n",
       "      <td>0.055</td>\n",
       "      <td>0.331</td>\n",
       "      <td>bonf</td>\n",
       "      <td>0.979</td>\n",
       "      <td>0.024</td>\n",
       "    </tr>\n",
       "    <tr>\n",
       "      <th>4</th>\n",
       "      <td>day</td>\n",
       "      <td>Sat</td>\n",
       "      <td>Fri</td>\n",
       "      <td>20.441</td>\n",
       "      <td>9.480</td>\n",
       "      <td>17.152</td>\n",
       "      <td>8.303</td>\n",
       "      <td>False</td>\n",
       "      <td>True</td>\n",
       "      <td>1.524</td>\n",
       "      <td>29.214</td>\n",
       "      <td>two-sided</td>\n",
       "      <td>0.138</td>\n",
       "      <td>0.830</td>\n",
       "      <td>bonf</td>\n",
       "      <td>0.685</td>\n",
       "      <td>0.030</td>\n",
       "    </tr>\n",
       "    <tr>\n",
       "      <th>5</th>\n",
       "      <td>day</td>\n",
       "      <td>Thur</td>\n",
       "      <td>Fri</td>\n",
       "      <td>17.683</td>\n",
       "      <td>7.886</td>\n",
       "      <td>17.152</td>\n",
       "      <td>8.303</td>\n",
       "      <td>False</td>\n",
       "      <td>True</td>\n",
       "      <td>0.247</td>\n",
       "      <td>28.682</td>\n",
       "      <td>two-sided</td>\n",
       "      <td>0.807</td>\n",
       "      <td>1.000</td>\n",
       "      <td>bonf</td>\n",
       "      <td>0.273</td>\n",
       "      <td>0.001</td>\n",
       "    </tr>\n",
       "  </tbody>\n",
       "</table>\n",
       "</div>"
      ],
      "text/plain": [
       "  Contrast     A     B  mean(A)  std(A)  mean(B)  std(B)  Paired  Parametric  \\\n",
       "0      day   Sun   Sat   21.410   8.832   20.441   9.480   False        True   \n",
       "1      day   Sun  Thur   21.410   8.832   17.683   7.886   False        True   \n",
       "2      day   Sun   Fri   21.410   8.832   17.152   8.303   False        True   \n",
       "3      day   Sat  Thur   20.441   9.480   17.683   7.886   False        True   \n",
       "4      day   Sat   Fri   20.441   9.480   17.152   8.303   False        True   \n",
       "5      day  Thur   Fri   17.683   7.886   17.152   8.303   False        True   \n",
       "\n",
       "       T      dof       Tail  p-unc  p-corr p-adjust   BF10  eta-square  \n",
       "0  0.675  160.318  two-sided  0.501   1.000     bonf  0.209       0.003  \n",
       "1  2.616  134.860  two-sided  0.010   0.059     bonf  3.984       0.047  \n",
       "2  1.974   29.067  two-sided  0.058   0.348     bonf  1.327       0.056  \n",
       "3  1.933  143.436  two-sided  0.055   0.331     bonf  0.979       0.024  \n",
       "4  1.524   29.214  two-sided  0.138   0.830     bonf  0.685       0.030  \n",
       "5  0.247   28.682  two-sided  0.807   1.000     bonf  0.273       0.001  "
      ]
     },
     "execution_count": 158,
     "metadata": {},
     "output_type": "execute_result"
    }
   ],
   "source": [
    "pg.pairwise_ttests(data=df, dv='total_bill', between='day', padjust = \"bonf\", correction = 'auto', \n",
    "                   return_desc = True, effsize = \"eta-square\").round(3) "
   ]
  },
  {
   "cell_type": "code",
   "execution_count": 159,
   "metadata": {},
   "outputs": [
    {
     "data": {
      "text/html": [
       "<div>\n",
       "<style scoped>\n",
       "    .dataframe tbody tr th:only-of-type {\n",
       "        vertical-align: middle;\n",
       "    }\n",
       "\n",
       "    .dataframe tbody tr th {\n",
       "        vertical-align: top;\n",
       "    }\n",
       "\n",
       "    .dataframe thead th {\n",
       "        text-align: right;\n",
       "    }\n",
       "</style>\n",
       "<table border=\"1\" class=\"dataframe\">\n",
       "  <thead>\n",
       "    <tr style=\"text-align: right;\">\n",
       "      <th></th>\n",
       "      <th>A</th>\n",
       "      <th>B</th>\n",
       "      <th>mean(A)</th>\n",
       "      <th>mean(B)</th>\n",
       "      <th>diff</th>\n",
       "      <th>se</th>\n",
       "      <th>T</th>\n",
       "      <th>p-tukey</th>\n",
       "      <th>eta-square</th>\n",
       "    </tr>\n",
       "  </thead>\n",
       "  <tbody>\n",
       "    <tr>\n",
       "      <th>0</th>\n",
       "      <td>Fri</td>\n",
       "      <td>Sat</td>\n",
       "      <td>17.152</td>\n",
       "      <td>20.441</td>\n",
       "      <td>-3.290</td>\n",
       "      <td>2.230</td>\n",
       "      <td>-1.475</td>\n",
       "      <td>0.454</td>\n",
       "      <td>0.034</td>\n",
       "    </tr>\n",
       "    <tr>\n",
       "      <th>1</th>\n",
       "      <td>Fri</td>\n",
       "      <td>Sun</td>\n",
       "      <td>17.152</td>\n",
       "      <td>21.410</td>\n",
       "      <td>-4.258</td>\n",
       "      <td>2.259</td>\n",
       "      <td>-1.885</td>\n",
       "      <td>0.235</td>\n",
       "      <td>0.055</td>\n",
       "    </tr>\n",
       "    <tr>\n",
       "      <th>2</th>\n",
       "      <td>Fri</td>\n",
       "      <td>Thur</td>\n",
       "      <td>17.152</td>\n",
       "      <td>17.683</td>\n",
       "      <td>-0.531</td>\n",
       "      <td>2.309</td>\n",
       "      <td>-0.230</td>\n",
       "      <td>0.900</td>\n",
       "      <td>0.001</td>\n",
       "    </tr>\n",
       "    <tr>\n",
       "      <th>3</th>\n",
       "      <td>Sat</td>\n",
       "      <td>Sun</td>\n",
       "      <td>20.441</td>\n",
       "      <td>21.410</td>\n",
       "      <td>-0.969</td>\n",
       "      <td>1.383</td>\n",
       "      <td>-0.700</td>\n",
       "      <td>0.896</td>\n",
       "      <td>0.003</td>\n",
       "    </tr>\n",
       "    <tr>\n",
       "      <th>4</th>\n",
       "      <td>Sat</td>\n",
       "      <td>Thur</td>\n",
       "      <td>20.441</td>\n",
       "      <td>17.683</td>\n",
       "      <td>2.759</td>\n",
       "      <td>1.464</td>\n",
       "      <td>1.885</td>\n",
       "      <td>0.235</td>\n",
       "      <td>0.024</td>\n",
       "    </tr>\n",
       "    <tr>\n",
       "      <th>5</th>\n",
       "      <td>Sun</td>\n",
       "      <td>Thur</td>\n",
       "      <td>21.410</td>\n",
       "      <td>17.683</td>\n",
       "      <td>3.727</td>\n",
       "      <td>1.507</td>\n",
       "      <td>2.473</td>\n",
       "      <td>0.065</td>\n",
       "      <td>0.043</td>\n",
       "    </tr>\n",
       "  </tbody>\n",
       "</table>\n",
       "</div>"
      ],
      "text/plain": [
       "     A     B  mean(A)  mean(B)   diff     se      T  p-tukey  eta-square\n",
       "0  Fri   Sat   17.152   20.441 -3.290  2.230 -1.475    0.454       0.034\n",
       "1  Fri   Sun   17.152   21.410 -4.258  2.259 -1.885    0.235       0.055\n",
       "2  Fri  Thur   17.152   17.683 -0.531  2.309 -0.230    0.900       0.001\n",
       "3  Sat   Sun   20.441   21.410 -0.969  1.383 -0.700    0.896       0.003\n",
       "4  Sat  Thur   20.441   17.683  2.759  1.464  1.885    0.235       0.024\n",
       "5  Sun  Thur   21.410   17.683  3.727  1.507  2.473    0.065       0.043"
      ]
     },
     "execution_count": 159,
     "metadata": {},
     "output_type": "execute_result"
    }
   ],
   "source": [
    "pg.pairwise_tukey(data=df, dv='total_bill', between='day', \n",
    "                   effsize = \"eta-square\").round(3)"
   ]
  },
  {
   "cell_type": "markdown",
   "metadata": {},
   "source": [
    "Pairwise t-tests mit Bonferroni-Korrektur und nach Tukey Honest Squared Differences ergeben beide, dass es keine signifikanten Paardifferenzen gibt. Die Mittelwertsunterschiede von total_bill zwischen einzelnen Wochentagen unterscheiden sich auf dem 5%-Niveau in keinem Fall. Die konservativere Bonferroni-Korrektur der p-Werte wurde als robute Methode bei unbalanced design präferiert (n zwischen 19 und 87). Da keine Paardifferenz signifikant ist, kann auch keine Generalisierung eines Effekts einer bestimmten Gruppe (eines Tages über alle anderen) getätigt werden."
   ]
  },
  {
   "cell_type": "markdown",
   "metadata": {},
   "source": [
    "Beispielhaft soll anhand des folgenden Paardifferenztests mit \"Gruppengröße\" / size gezeigt werden, dass signifikanter Unterschied auf dem 5%-Niveau nach Bonferroni-Korrektur immerhin zwischen Freitag und Sonntag zu bestehen scheint.  "
   ]
  },
  {
   "cell_type": "code",
   "execution_count": 160,
   "metadata": {},
   "outputs": [
    {
     "data": {
      "text/html": [
       "<div>\n",
       "<style scoped>\n",
       "    .dataframe tbody tr th:only-of-type {\n",
       "        vertical-align: middle;\n",
       "    }\n",
       "\n",
       "    .dataframe tbody tr th {\n",
       "        vertical-align: top;\n",
       "    }\n",
       "\n",
       "    .dataframe thead th {\n",
       "        text-align: right;\n",
       "    }\n",
       "</style>\n",
       "<table border=\"1\" class=\"dataframe\">\n",
       "  <thead>\n",
       "    <tr style=\"text-align: right;\">\n",
       "      <th></th>\n",
       "      <th>Contrast</th>\n",
       "      <th>A</th>\n",
       "      <th>B</th>\n",
       "      <th>mean(A)</th>\n",
       "      <th>std(A)</th>\n",
       "      <th>mean(B)</th>\n",
       "      <th>std(B)</th>\n",
       "      <th>Paired</th>\n",
       "      <th>Parametric</th>\n",
       "      <th>T</th>\n",
       "      <th>dof</th>\n",
       "      <th>Tail</th>\n",
       "      <th>p-unc</th>\n",
       "      <th>p-corr</th>\n",
       "      <th>p-adjust</th>\n",
       "      <th>BF10</th>\n",
       "      <th>eta-square</th>\n",
       "    </tr>\n",
       "  </thead>\n",
       "  <tbody>\n",
       "    <tr>\n",
       "      <th>0</th>\n",
       "      <td>day</td>\n",
       "      <td>Sun</td>\n",
       "      <td>Sat</td>\n",
       "      <td>2.842</td>\n",
       "      <td>1.007</td>\n",
       "      <td>2.517</td>\n",
       "      <td>0.819</td>\n",
       "      <td>False</td>\n",
       "      <td>True</td>\n",
       "      <td>2.238</td>\n",
       "      <td>144.609</td>\n",
       "      <td>two-sided</td>\n",
       "      <td>0.027</td>\n",
       "      <td>0.160</td>\n",
       "      <td>bonf</td>\n",
       "      <td>1.68</td>\n",
       "      <td>0.031</td>\n",
       "    </tr>\n",
       "    <tr>\n",
       "      <th>1</th>\n",
       "      <td>day</td>\n",
       "      <td>Sun</td>\n",
       "      <td>Thur</td>\n",
       "      <td>2.842</td>\n",
       "      <td>1.007</td>\n",
       "      <td>2.452</td>\n",
       "      <td>1.066</td>\n",
       "      <td>False</td>\n",
       "      <td>True</td>\n",
       "      <td>2.194</td>\n",
       "      <td>127.284</td>\n",
       "      <td>two-sided</td>\n",
       "      <td>0.030</td>\n",
       "      <td>0.180</td>\n",
       "      <td>bonf</td>\n",
       "      <td>1.613</td>\n",
       "      <td>0.034</td>\n",
       "    </tr>\n",
       "    <tr>\n",
       "      <th>2</th>\n",
       "      <td>day</td>\n",
       "      <td>Sun</td>\n",
       "      <td>Fri</td>\n",
       "      <td>2.842</td>\n",
       "      <td>1.007</td>\n",
       "      <td>2.105</td>\n",
       "      <td>0.567</td>\n",
       "      <td>False</td>\n",
       "      <td>True</td>\n",
       "      <td>4.234</td>\n",
       "      <td>50.110</td>\n",
       "      <td>two-sided</td>\n",
       "      <td>0.000</td>\n",
       "      <td>0.001</td>\n",
       "      <td>bonf</td>\n",
       "      <td>367.252</td>\n",
       "      <td>0.134</td>\n",
       "    </tr>\n",
       "    <tr>\n",
       "      <th>3</th>\n",
       "      <td>day</td>\n",
       "      <td>Sat</td>\n",
       "      <td>Thur</td>\n",
       "      <td>2.517</td>\n",
       "      <td>0.819</td>\n",
       "      <td>2.452</td>\n",
       "      <td>1.066</td>\n",
       "      <td>False</td>\n",
       "      <td>True</td>\n",
       "      <td>0.407</td>\n",
       "      <td>109.390</td>\n",
       "      <td>two-sided</td>\n",
       "      <td>0.685</td>\n",
       "      <td>1.000</td>\n",
       "      <td>bonf</td>\n",
       "      <td>0.193</td>\n",
       "      <td>0.001</td>\n",
       "    </tr>\n",
       "    <tr>\n",
       "      <th>4</th>\n",
       "      <td>day</td>\n",
       "      <td>Sat</td>\n",
       "      <td>Fri</td>\n",
       "      <td>2.517</td>\n",
       "      <td>0.819</td>\n",
       "      <td>2.105</td>\n",
       "      <td>0.567</td>\n",
       "      <td>False</td>\n",
       "      <td>True</td>\n",
       "      <td>2.624</td>\n",
       "      <td>36.557</td>\n",
       "      <td>two-sided</td>\n",
       "      <td>0.013</td>\n",
       "      <td>0.076</td>\n",
       "      <td>bonf</td>\n",
       "      <td>4.582</td>\n",
       "      <td>0.065</td>\n",
       "    </tr>\n",
       "    <tr>\n",
       "      <th>5</th>\n",
       "      <td>day</td>\n",
       "      <td>Thur</td>\n",
       "      <td>Fri</td>\n",
       "      <td>2.452</td>\n",
       "      <td>1.066</td>\n",
       "      <td>2.105</td>\n",
       "      <td>0.567</td>\n",
       "      <td>False</td>\n",
       "      <td>True</td>\n",
       "      <td>1.844</td>\n",
       "      <td>58.028</td>\n",
       "      <td>two-sided</td>\n",
       "      <td>0.070</td>\n",
       "      <td>0.421</td>\n",
       "      <td>bonf</td>\n",
       "      <td>1.09</td>\n",
       "      <td>0.031</td>\n",
       "    </tr>\n",
       "  </tbody>\n",
       "</table>\n",
       "</div>"
      ],
      "text/plain": [
       "  Contrast     A     B  mean(A)  std(A)  mean(B)  std(B)  Paired  Parametric  \\\n",
       "0      day   Sun   Sat    2.842   1.007    2.517   0.819   False        True   \n",
       "1      day   Sun  Thur    2.842   1.007    2.452   1.066   False        True   \n",
       "2      day   Sun   Fri    2.842   1.007    2.105   0.567   False        True   \n",
       "3      day   Sat  Thur    2.517   0.819    2.452   1.066   False        True   \n",
       "4      day   Sat   Fri    2.517   0.819    2.105   0.567   False        True   \n",
       "5      day  Thur   Fri    2.452   1.066    2.105   0.567   False        True   \n",
       "\n",
       "       T      dof       Tail  p-unc  p-corr p-adjust     BF10  eta-square  \n",
       "0  2.238  144.609  two-sided  0.027   0.160     bonf     1.68       0.031  \n",
       "1  2.194  127.284  two-sided  0.030   0.180     bonf    1.613       0.034  \n",
       "2  4.234   50.110  two-sided  0.000   0.001     bonf  367.252       0.134  \n",
       "3  0.407  109.390  two-sided  0.685   1.000     bonf    0.193       0.001  \n",
       "4  2.624   36.557  two-sided  0.013   0.076     bonf    4.582       0.065  \n",
       "5  1.844   58.028  two-sided  0.070   0.421     bonf     1.09       0.031  "
      ]
     },
     "execution_count": 160,
     "metadata": {},
     "output_type": "execute_result"
    }
   ],
   "source": [
    "pg.pairwise_ttests(data=df, dv='size', between='day', padjust = \"bonf\", correction = 'auto', \n",
    "                   return_desc = True, effsize = \"eta-square\").round(3) "
   ]
  },
  {
   "cell_type": "markdown",
   "metadata": {},
   "source": [
    "## Profildiagramm\n"
   ]
  },
  {
   "cell_type": "code",
   "execution_count": 161,
   "metadata": {},
   "outputs": [
    {
     "data": {
      "text/html": [
       "<div>\n",
       "<style scoped>\n",
       "    .dataframe tbody tr th:only-of-type {\n",
       "        vertical-align: middle;\n",
       "    }\n",
       "\n",
       "    .dataframe tbody tr th {\n",
       "        vertical-align: top;\n",
       "    }\n",
       "\n",
       "    .dataframe thead th {\n",
       "        text-align: right;\n",
       "    }\n",
       "</style>\n",
       "<table border=\"1\" class=\"dataframe\">\n",
       "  <thead>\n",
       "    <tr style=\"text-align: right;\">\n",
       "      <th></th>\n",
       "      <th>mean</th>\n",
       "      <th>std</th>\n",
       "    </tr>\n",
       "    <tr>\n",
       "      <th>day</th>\n",
       "      <th></th>\n",
       "      <th></th>\n",
       "    </tr>\n",
       "  </thead>\n",
       "  <tbody>\n",
       "    <tr>\n",
       "      <th>Fri</th>\n",
       "      <td>17.151579</td>\n",
       "      <td>8.302660</td>\n",
       "    </tr>\n",
       "    <tr>\n",
       "      <th>Sat</th>\n",
       "      <td>20.441379</td>\n",
       "      <td>9.480419</td>\n",
       "    </tr>\n",
       "    <tr>\n",
       "      <th>Sun</th>\n",
       "      <td>21.410000</td>\n",
       "      <td>8.832122</td>\n",
       "    </tr>\n",
       "    <tr>\n",
       "      <th>Thur</th>\n",
       "      <td>17.682742</td>\n",
       "      <td>7.886170</td>\n",
       "    </tr>\n",
       "  </tbody>\n",
       "</table>\n",
       "</div>"
      ],
      "text/plain": [
       "           mean       std\n",
       "day                      \n",
       "Fri   17.151579  8.302660\n",
       "Sat   20.441379  9.480419\n",
       "Sun   21.410000  8.832122\n",
       "Thur  17.682742  7.886170"
      ]
     },
     "execution_count": 161,
     "metadata": {},
     "output_type": "execute_result"
    }
   ],
   "source": [
    "sta = grouped[\"total_bill\"].agg([np.mean, np.std])\n",
    "sta"
   ]
  },
  {
   "cell_type": "code",
   "execution_count": 162,
   "metadata": {},
   "outputs": [
    {
     "data": {
      "text/plain": [
       "<AxesSubplot:title={'center':'Mean total bill by day with standard deviation'}, ylabel='day'>"
      ]
     },
     "execution_count": 162,
     "metadata": {},
     "output_type": "execute_result"
    },
    {
     "data": {
      "image/png": "[encoded data removed]",
      "text/plain": [
       "<Figure size 432x288 with 1 Axes>"
      ]
     },
     "metadata": {
      "needs_background": "light"
     },
     "output_type": "display_data"
    }
   ],
   "source": [
    "sta.plot(kind = \"barh\", y = \"mean\", legend = False, title = \"Mean total bill by day with standard deviation\", xerr = \"std\")"
   ]
  },
  {
   "cell_type": "code",
   "execution_count": 163,
   "metadata": {},
   "outputs": [
    {
     "data": {
      "text/plain": [
       "<ErrorbarContainer object of 3 artists>"
      ]
     },
     "execution_count": 163,
     "metadata": {},
     "output_type": "execute_result"
    },
    {
     "data": {
      "image/png": "[encoded data removed]",
      "text/plain": [
       "<Figure size 432x288 with 1 Axes>"
      ]
     },
     "metadata": {
      "needs_background": "light"
     },
     "output_type": "display_data"
    }
   ],
   "source": [
    "ax = sta.plot(kind = \"barh\", y = \"mean\", \n",
    "              legend = False, \n",
    "              title = \"Mean total bill by day with standard deviation\") \n",
    "ax.set_xlabel(\"Total Bill ($)\")# Y\n",
    "ax.set_ylabel(\"Day\")\n",
    "for key, spine in ax.spines.items():\n",
    "    spine.set_visible(False)\n",
    "ax.tick_params(bottom = False, left = False)\n",
    "ax.errorbar(sta[\"mean\"], sta.index, xerr = sta[\"std\"], \n",
    "            linewidth = 1.5, color = \"black\", alpha = 0.4, capsize = 4)"
   ]
  },
  {
   "cell_type": "markdown",
   "metadata": {},
   "source": [
    "## Berechnung der Effektstärke\n"
   ]
  },
  {
   "cell_type": "markdown",
   "metadata": {},
   "source": [
    "Das partielle Eta-Quadrat (partielles η2) ist ein Mass für die Effektgrösse: Es setzt die Variation, die durch einen Faktor erklärt wird, in Bezug mit jener Variation, die nicht durch andere Faktoren im Modell erklärt wird. Das heisst, es wird ausschliesslich jene Variation betrachtet, welche nicht durch die anderen Faktoren im Modell erklärt wird. Das partielle Eta-Quadrat zeigt, welchen Anteil davon ein Faktor erklärt. Im Falle der einfaktoriellen Varianzanalyse ist das partielle Eta-Quadrat ist jener Anteil der korrigierten Gesamtvariation, der durch das Modell erklärt wird."
   ]
  },
  {
   "cell_type": "markdown",
   "metadata": {},
   "source": [
    "$$\\eta^2 =\\frac{QS_{Zwischen}}{QS_{total}}$$\n",
    "<br>\n",
    "$$\\eta^2_{par.} =\\frac{QS_{Zwischen}}{QS_{zwischen}+QS_{innerhalb}}$$"
   ]
  },
  {
   "cell_type": "markdown",
   "metadata": {},
   "source": [
    "$$\\begin{align}\n",
    "\\text{Schwacher Effekt: } 0.10 &< ||f|| < 0.25             \\\\\n",
    "\\text{Schwacher bis mittlerer Effekt: } 0.25 &= ||f||      \\\\\n",
    "\\text{Mittlerer Effekt: } 0.25 &< ||f|| < 0.40             \\\\\n",
    "\\text{Mittlerer bis starker Effekt: }0.40 &= ||f||         \\\\\n",
    "\\text{Starker Effekt: } 0.40 &< ||f||        \n",
    "\\end{align}$$"
   ]
  },
  {
   "cell_type": "code",
   "execution_count": 164,
   "metadata": {},
   "outputs": [
    {
     "name": "stdout",
     "output_type": "stream",
     "text": [
      "0.033436797422140556\n",
      "0.1859932607410262\n",
      "Das partielle Eta für total bill liegt bei 0.033, und somit beträgt die Effektgröße nach Cohen(1988) 0.186.\n",
      "Dies entspricht einem schwachen Effekt.\n"
     ]
    }
   ],
   "source": [
    "eta = total_bill_aov[\"np2\"][0]\n",
    "print(eta)\n",
    "eff = np.sqrt(eta/(1-eta))\n",
    "print(eff)\n",
    "print(f\"Das partielle Eta für total bill liegt bei {eta.round(3)}, und somit beträgt die Effektgröße nach Cohen(1988) {eff.round(3)}.\\nDies entspricht einem schwachen Effekt.\")"
   ]
  },
  {
   "cell_type": "markdown",
   "metadata": {},
   "source": [
    "Im vorliegenden Beispiel beträgt das partielle Eta-Quadrat .0334. Das heisst, es wird 3.34% der Variation in total-bill durch day aufgeklärt."
   ]
  },
  {
   "cell_type": "markdown",
   "metadata": {},
   "source": [
    "## Aussage (Anova - einfaktoriellen Varianzanalyse ohne Messwiederholung)"
   ]
  },
  {
   "cell_type": "markdown",
   "metadata": {},
   "source": [
    "Der Wochentag hat laut Anova einen signifikanten Einfluss auf die Rechnungshöhe (F(3, 240) = 2.767 , p = 0.0424) auf dem 5% Signifikanzniveau. 3.34% der Streuung der Rechnungssummen-Werte um den Gesamtmittelwert kann durch die Wochentage erklärt werden. Demnach läge die Effektstärke nach Cohen (1988) bei f = 0.186, was einem schwachen Effekt gleich käme.\n",
    "\n",
    "Allerdings kommt der Post-hoc-Test mit Bonferri-Korrektur zu dem Ergebnis, dass sich keine generalisierbaren Gruppen aus den Wochentagen bilden lassen können (alle p > .05). Donnerstag (M=17.68, SD=7.89, N=62), Freitag (M=17.15, SD=8.30, N=19), Samstag (M=20.44, SD=9.48, N=87) und Sonntag (M=21.41, SD=8.83, N=76) lassen sich in Bonferroni-korrigierten Paardifferenztests nicht signifikant voneinander unterscheiden.\n",
    "\n",
    "Obwohl für den Gesamteffekt die Anova sifnifikant war, wird H0 beibehalten und H1 verworfen, da keiner der Paardifferenztests signifikant war. Anzumerken wäre noch, dass die fehlende Normalverteilung in der abhängigen Variablen total_bill insbesondere durch die niedrige Gruppen-Fallzahl am Freitag mit n=19 zu einer Verzerrung des Ergebnisses führen kann, weshalb das Ergebnis mit Vorsicht interpretiert werden sollte und gegebenenfalls weitere Analysen mit anderer Datenvorverarbeitung durchgeführt werden sollten."
   ]
  }
 ],
 "metadata": {
  "kernelspec": {
   "display_name": "Python 3",
   "language": "python",
   "name": "python3"
  },
  "language_info": {
   "codemirror_mode": {
    "name": "ipython",
    "version": 3
   },
   "file_extension": ".py",
   "mimetype": "text/x-python",
   "name": "python",
   "nbconvert_exporter": "python",
   "pygments_lexer": "ipython3",
   "version": "3.7.9"
  },
  "toc": {
   "base_numbering": 1,
   "nav_menu": {},
   "number_sections": true,
   "sideBar": true,
   "skip_h1_title": false,
   "title_cell": "Table of Contents",
   "title_sidebar": "Contents",
   "toc_cell": false,
   "toc_position": {},
   "toc_section_display": true,
   "toc_window_display": true
  }
 },
 "nbformat": 4,
 "nbformat_minor": 4
}
